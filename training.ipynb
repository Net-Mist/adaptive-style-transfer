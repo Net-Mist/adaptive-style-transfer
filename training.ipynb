{
 "cells": [
  {
   "cell_type": "markdown",
   "metadata": {},
   "source": [
    "1.4 it/s"
   ]
  },
  {
   "cell_type": "code",
   "execution_count": 1,
   "metadata": {},
   "outputs": [],
   "source": [
    "from main import main"
   ]
  },
  {
   "cell_type": "code",
   "execution_count": null,
   "metadata": {},
   "outputs": [
    {
     "name": "stderr",
     "output_type": "stream",
     "text": [
      "\r",
      "  0%|          | 0/132 [00:00<?, ?it/s]"
     ]
    },
    {
     "name": "stdout",
     "output_type": "stream",
     "text": [
      "a/abbey 0\n"
     ]
    },
    {
     "name": "stderr",
     "output_type": "stream",
     "text": [
      "  1%|          | 1/132 [00:00<00:26,  4.95it/s]\n",
      "  0%|          | 0/5000 [00:00<?, ?it/s]\u001b[A\n",
      "  2%|▏         | 2/132 [00:00<00:23,  5.47it/s].39it/s]\u001b[A\n",
      "  0%|          | 0/5000 [00:00<?, ?it/s]\u001b[A"
     ]
    },
    {
     "name": "stdout",
     "output_type": "stream",
     "text": [
      "Category a/abbey can't be found in path /run/media/mist/data/machine_learning/style_transfert/train/data_large/a/abbey. Skip it.\n",
      "a/arch 1\n",
      "a/amphitheater 2\n"
     ]
    },
    {
     "name": "stderr",
     "output_type": "stream",
     "text": [
      "\n",
      "100%|██████████| 5000/5000 [00:00<00:00, 182793.39it/s]\u001b[A\n",
      "  0%|          | 0/5000 [00:00<?, ?it/s]\u001b[A\n",
      "  3%|▎         | 4/132 [00:00<00:19,  6.60it/s].38it/s]\u001b[A\n",
      "  0%|          | 0/5000 [00:00<?, ?it/s]\u001b[A\n",
      "  4%|▍         | 5/132 [00:00<00:17,  7.22it/s].99it/s]\u001b[A"
     ]
    },
    {
     "name": "stdout",
     "output_type": "stream",
     "text": [
      "a/aqueduct 3\n",
      "a/arena/rodeo 4\n",
      "a/athletic_field/outdoor 5\n"
     ]
    },
    {
     "name": "stderr",
     "output_type": "stream",
     "text": [
      "\n",
      "  0%|          | 0/5000 [00:00<?, ?it/s]\u001b[A\n",
      "100%|██████████| 5000/5000 [00:00<00:00, 332106.36it/s]\u001b[A\n",
      "  0%|          | 0/5000 [00:00<?, ?it/s]\u001b[A\n",
      "  5%|▌         | 7/132 [00:00<00:14,  8.72it/s].12it/s]\u001b[A\n",
      "  0%|          | 0/5000 [00:00<?, ?it/s]\u001b[A\n",
      "100%|██████████| 5000/5000 [00:00<00:00, 544870.48it/s]\u001b[A\n",
      "  0%|          | 0/5000 [00:00<?, ?it/s]\u001b[A\n",
      "  7%|▋         | 9/132 [00:00<00:12, 10.03it/s].57it/s]\u001b[A"
     ]
    },
    {
     "name": "stdout",
     "output_type": "stream",
     "text": [
      "b/badlands 6\n",
      "b/balcony/exterior 7\n",
      "b/bamboo_forest 8\n",
      "b/barn 9\n"
     ]
    },
    {
     "name": "stderr",
     "output_type": "stream",
     "text": [
      "\n",
      "  0%|          | 0/5000 [00:00<?, ?it/s]\u001b[A\n",
      "100%|██████████| 5000/5000 [00:00<00:00, 643831.39it/s]\u001b[A\n",
      "  0%|          | 0/5000 [00:00<?, ?it/s]\u001b[A\n",
      "  8%|▊         | 11/132 [00:01<00:11, 10.78it/s]35it/s]\u001b[A\n",
      "  0%|          | 0/5000 [00:00<?, ?it/s]\u001b[A\n",
      "100%|██████████| 5000/5000 [00:00<00:00, 167445.31it/s]\u001b[A"
     ]
    },
    {
     "name": "stdout",
     "output_type": "stream",
     "text": [
      "b/barndoor 10\n",
      "b/baseball_field 11\n",
      "b/basilica 12\n",
      "Category b/basilica can't be found in path /run/media/mist/data/machine_learning/style_transfert/train/data_large/b/basilica. Skip it.\n",
      "b/bayou 13\n",
      "Category b/bayou can't be found in path /run/media/mist/data/machine_learning/style_transfert/train/data_large/b/bayou. Skip it.\n",
      "b/beach 14\n"
     ]
    },
    {
     "name": "stderr",
     "output_type": "stream",
     "text": [
      "\n",
      "  0%|          | 0/5000 [00:00<?, ?it/s]\u001b[A\n",
      " 11%|█▏        | 15/132 [00:01<00:08, 13.14it/s]98it/s]\u001b[A\n",
      "  0%|          | 0/5000 [00:00<?, ?it/s]\u001b[A\n",
      "100%|██████████| 5000/5000 [00:00<00:00, 285544.36it/s]\u001b[A\n",
      "  0%|          | 0/5000 [00:00<?, ?it/s]\u001b[A\n",
      " 13%|█▎        | 17/132 [00:01<00:08, 13.61it/s]61it/s]\u001b[A\n",
      "  0%|          | 0/5000 [00:00<?, ?it/s]\u001b[A\n",
      "100%|██████████| 5000/5000 [00:00<00:00, 730765.91it/s]\u001b[A"
     ]
    },
    {
     "name": "stdout",
     "output_type": "stream",
     "text": [
      "b/beach_house 15\n",
      "b/beer_garden 16\n",
      "b/boardwalk 17\n",
      "b/boathouse 18\n"
     ]
    },
    {
     "name": "stderr",
     "output_type": "stream",
     "text": [
      "\n",
      "  0%|          | 0/5000 [00:00<?, ?it/s]\u001b[A\n",
      " 14%|█▍        | 19/132 [00:01<00:07, 14.87it/s]51it/s]\u001b[A\n",
      "  0%|          | 0/5000 [00:00<?, ?it/s]\u001b[A\n",
      "100%|██████████| 5000/5000 [00:00<00:00, 662523.54it/s]\u001b[A\n",
      "  0%|          | 0/4681 [00:00<?, ?it/s]\u001b[A\n",
      " 16%|█▌        | 21/132 [00:01<00:07, 15.29it/s]99it/s]\u001b[A\n",
      "  0%|          | 0/5000 [00:00<?, ?it/s]\u001b[A\n",
      "100%|██████████| 5000/5000 [00:00<00:00, 442736.02it/s]\u001b[A"
     ]
    },
    {
     "name": "stdout",
     "output_type": "stream",
     "text": [
      "b/botanical_garden 19\n",
      "b/bullring 20\n",
      "b/butte 21\n",
      "c/cabin/outdoor 22\n"
     ]
    },
    {
     "name": "stderr",
     "output_type": "stream",
     "text": [
      "\n",
      "  0%|          | 0/5000 [00:00<?, ?it/s]\u001b[A\n",
      " 17%|█▋        | 23/132 [00:01<00:07, 14.73it/s]25it/s]\u001b[A\n",
      "  0%|          | 0/5000 [00:00<?, ?it/s]\u001b[A\n",
      "100%|██████████| 5000/5000 [00:00<00:00, 384946.86it/s]\u001b[A\n",
      "  0%|          | 0/5000 [00:00<?, ?it/s]\u001b[A\n",
      " 19%|█▉        | 25/132 [00:01<00:06, 15.60it/s]45it/s]\u001b[A\n",
      "  0%|          | 0/5000 [00:00<?, ?it/s]\u001b[A\n",
      "100%|██████████| 5000/5000 [00:00<00:00, 694858.35it/s]\u001b[A\n",
      "  0%|          | 0/5000 [00:00<?, ?it/s]\u001b[A\n"
     ]
    },
    {
     "name": "stdout",
     "output_type": "stream",
     "text": [
      "c/campsite 23\n",
      "c/campus 24\n",
      "c/canal/natural 25\n",
      "c/canal/urban 26\n"
     ]
    },
    {
     "name": "stderr",
     "output_type": "stream",
     "text": [
      "100%|██████████| 5000/5000 [00:00<00:00, 673091.76it/s]\u001b[A\n",
      "  0%|          | 0/5000 [00:00<?, ?it/s]\u001b[A\n",
      " 21%|██        | 28/132 [00:01<00:06, 15.82it/s]54it/s]\u001b[A\n",
      "  0%|          | 0/5000 [00:00<?, ?it/s]\u001b[A\n",
      "100%|██████████| 5000/5000 [00:00<00:00, 737888.18it/s]\u001b[A"
     ]
    },
    {
     "name": "stdout",
     "output_type": "stream",
     "text": [
      "c/canyon 27\n",
      "c/castle 28\n",
      "c/church/outdoor 29\n"
     ]
    },
    {
     "name": "stderr",
     "output_type": "stream",
     "text": [
      "\n",
      "  0%|          | 0/5000 [00:00<?, ?it/s]\u001b[A\n",
      " 23%|██▎       | 30/132 [00:02<00:07, 14.45it/s]49it/s]\u001b[A\n",
      "  0%|          | 0/5000 [00:00<?, ?it/s]\u001b[A\n",
      "100%|██████████| 5000/5000 [00:00<00:00, 141976.70it/s]\u001b[A\n",
      "  0%|          | 0/5000 [00:00<?, ?it/s]\u001b[A\n",
      " 24%|██▍       | 32/132 [00:02<00:07, 14.27it/s]46it/s]\u001b[A\n",
      "  0%|          | 0/5000 [00:00<?, ?it/s]\u001b[A"
     ]
    },
    {
     "name": "stdout",
     "output_type": "stream",
     "text": [
      "c/chalet 30\n",
      "c/cliff 31\n",
      "c/coast 32\n"
     ]
    },
    {
     "name": "stderr",
     "output_type": "stream",
     "text": [
      "\n",
      "100%|██████████| 5000/5000 [00:00<00:00, 217531.09it/s]\u001b[A\n",
      "  0%|          | 0/5000 [00:00<?, ?it/s]\u001b[A\n",
      " 26%|██▌       | 34/132 [00:02<00:07, 13.14it/s]15it/s]\u001b[A\n",
      "  0%|          | 0/5000 [00:00<?, ?it/s]\u001b[A\n",
      "100%|██████████| 5000/5000 [00:00<00:00, 158996.81it/s]\u001b[A"
     ]
    },
    {
     "name": "stdout",
     "output_type": "stream",
     "text": [
      "c/corn_field 33\n",
      "c/corral 34\n",
      "c/cottage 35\n"
     ]
    },
    {
     "name": "stderr",
     "output_type": "stream",
     "text": [
      "\n",
      "  0%|          | 0/5000 [00:00<?, ?it/s]\u001b[A\n",
      " 27%|██▋       | 36/132 [00:02<00:07, 12.85it/s]50it/s]\u001b[A\n",
      "  0%|          | 0/5000 [00:00<?, ?it/s]\u001b[A\n",
      "100%|██████████| 5000/5000 [00:00<00:00, 180895.01it/s]\u001b[A\n",
      "  0%|          | 0/4457 [00:00<?, ?it/s]\u001b[A\n",
      " 29%|██▉       | 38/132 [00:02<00:07, 12.63it/s]01it/s]\u001b[A"
     ]
    },
    {
     "name": "stdout",
     "output_type": "stream",
     "text": [
      "c/courtyard 36\n",
      "c/crevasse 37\n",
      "d/dam 38\n"
     ]
    },
    {
     "name": "stderr",
     "output_type": "stream",
     "text": [
      "\n",
      "  0%|          | 0/5000 [00:00<?, ?it/s]\u001b[A\n",
      "100%|██████████| 5000/5000 [00:00<00:00, 349513.68it/s]\u001b[A\n",
      "  0%|          | 0/5000 [00:00<?, ?it/s]\u001b[A\n",
      " 30%|███       | 40/132 [00:02<00:06, 13.20it/s]27it/s]\u001b[A\n",
      "  0%|          | 0/5000 [00:00<?, ?it/s]\u001b[A\n",
      "100%|██████████| 5000/5000 [00:00<00:00, 394320.10it/s]\u001b[A\n",
      "  0%|          | 0/5000 [00:00<?, ?it/s]"
     ]
    },
    {
     "name": "stdout",
     "output_type": "stream",
     "text": [
      "d/desert/vegetation 39\n",
      "d/desert_road 40\n",
      "d/doorway/outdoor 41\n"
     ]
    },
    {
     "name": "stderr",
     "output_type": "stream",
     "text": [
      "\u001b[A\n",
      " 32%|███▏      | 42/132 [00:03<00:07, 12.71it/s]25it/s]\u001b[A\n",
      "  0%|          | 0/5000 [00:00<?, ?it/s]\u001b[A\n",
      "100%|██████████| 5000/5000 [00:00<00:00, 263537.45it/s]\u001b[A\n",
      "  0%|          | 0/5000 [00:00<?, ?it/s]\u001b[A\n",
      " 34%|███▍      | 45/132 [00:03<00:06, 13.97it/s]77it/s]\u001b[A"
     ]
    },
    {
     "name": "stdout",
     "output_type": "stream",
     "text": [
      "f/farm 42\n",
      "f/fairway 43\n",
      "Category f/fairway can't be found in path /run/media/mist/data/machine_learning/style_transfert/train/data_large/f/fairway. Skip it.\n",
      "f/field/cultivated 44\n",
      "f/field/wild 45\n"
     ]
    },
    {
     "name": "stderr",
     "output_type": "stream",
     "text": [
      "\n",
      "  0%|          | 0/5000 [00:00<?, ?it/s]\u001b[A\n",
      "100%|██████████| 5000/5000 [00:00<00:00, 219963.29it/s]\u001b[A\n",
      "  0%|          | 0/5000 [00:00<?, ?it/s]\u001b[A\n",
      " 36%|███▌      | 47/132 [00:03<00:06, 13.54it/s]60it/s]\u001b[A\n",
      "  0%|          | 0/5000 [00:00<?, ?it/s]\u001b[A\n",
      "100%|██████████| 5000/5000 [00:00<00:00, 227817.59it/s]\u001b[A"
     ]
    },
    {
     "name": "stdout",
     "output_type": "stream",
     "text": [
      "f/field_road 46\n",
      "f/fishpond 47\n",
      "f/florist_shop/indoor 48\n"
     ]
    },
    {
     "name": "stderr",
     "output_type": "stream",
     "text": [
      "\n",
      "  0%|          | 0/5000 [00:00<?, ?it/s]\u001b[A\n",
      " 37%|███▋      | 49/132 [00:03<00:06, 13.14it/s]36it/s]\u001b[A\n",
      "  0%|          | 0/5000 [00:00<?, ?it/s]\u001b[A\n",
      "100%|██████████| 5000/5000 [00:00<00:00, 440439.36it/s]\u001b[A\n",
      "  0%|          | 0/5000 [00:00<?, ?it/s]\u001b[A\n",
      " 39%|███▊      | 51/132 [00:03<00:06, 13.38it/s]66it/s]\u001b[A\n",
      "  0%|          | 0/5000 [00:00<?, ?it/s]\u001b[A"
     ]
    },
    {
     "name": "stdout",
     "output_type": "stream",
     "text": [
      "f/forest/broadleaf 49\n",
      "f/forest_path 50\n",
      "f/forest_road 51\n"
     ]
    },
    {
     "name": "stderr",
     "output_type": "stream",
     "text": [
      "\n",
      "100%|██████████| 5000/5000 [00:00<00:00, 456796.34it/s]\u001b[A\n",
      "  0%|          | 0/5000 [00:00<?, ?it/s]\u001b[A\n",
      " 40%|████      | 53/132 [00:03<00:05, 14.46it/s]50it/s]\u001b[A\n",
      "  0%|          | 0/5000 [00:00<?, ?it/s]\u001b[A\n",
      "100%|██████████| 5000/5000 [00:00<00:00, 468009.82it/s]\u001b[A\n",
      "  0%|          | 0/5000 [00:00<?, ?it/s]\u001b[A\n",
      " 42%|████▏     | 55/132 [00:03<00:05, 14.70it/s]40it/s]\u001b[A"
     ]
    },
    {
     "name": "stdout",
     "output_type": "stream",
     "text": [
      "f/formal_garden 52\n",
      "g/gazebo/exterior 53\n",
      "g/glacier 54\n",
      "g/golf_course 55\n"
     ]
    },
    {
     "name": "stderr",
     "output_type": "stream",
     "text": [
      "\n",
      "  0%|          | 0/5000 [00:00<?, ?it/s]\u001b[A\n",
      "100%|██████████| 5000/5000 [00:00<00:00, 437243.71it/s]\u001b[A\n",
      "  0%|          | 0/5000 [00:00<?, ?it/s]\u001b[A\n",
      " 43%|████▎     | 57/132 [00:04<00:04, 15.02it/s]98it/s]\u001b[A\n",
      "  0%|          | 0/4939 [00:00<?, ?it/s]\u001b[A\n",
      "100%|██████████| 4939/4939 [00:00<00:00, 557112.40it/s]\u001b[A\n",
      "  0%|          | 0/5000 [00:00<?, ?it/s]\u001b[A\n",
      " 45%|████▍     | 59/132 [00:04<00:04, 16.11it/s]76it/s]\u001b[A"
     ]
    },
    {
     "name": "stdout",
     "output_type": "stream",
     "text": [
      "g/greenhouse/indoor 56\n",
      "g/greenhouse/outdoor 57\n",
      "g/grotto 58\n",
      "g/gorge 59\n",
      "Category g/gorge can't be found in path /run/media/mist/data/machine_learning/style_transfert/train/data_large/g/gorge. Skip it.\n",
      "h/hayfield 60\n"
     ]
    },
    {
     "name": "stderr",
     "output_type": "stream",
     "text": [
      "\n",
      "  0%|          | 0/5000 [00:00<?, ?it/s]\u001b[A\n",
      "100%|██████████| 5000/5000 [00:00<00:00, 375262.06it/s]\u001b[A\n",
      "  0%|          | 0/5000 [00:00<?, ?it/s]\u001b[A\n",
      " 48%|████▊     | 63/132 [00:04<00:03, 18.35it/s]71it/s]\u001b[A\n",
      "  0%|          | 0/5000 [00:00<?, ?it/s]\u001b[A\n",
      "100%|██████████| 5000/5000 [00:00<00:00, 679283.52it/s]\u001b[A\n",
      "  0%|          | 0/5000 [00:00<?, ?it/s]\u001b[A\n",
      "100%|██████████| 5000/5000 [00:00<00:00, 686892.67it/s]\u001b[A"
     ]
    },
    {
     "name": "stdout",
     "output_type": "stream",
     "text": [
      "h/herb_garden 61\n",
      "Category h/herb_garden can't be found in path /run/media/mist/data/machine_learning/style_transfert/train/data_large/h/herb_garden. Skip it.\n",
      "h/hot_spring 62\n",
      "h/house 63\n",
      "h/hunting_lodge/outdoor 64\n",
      "i/ice_floe 65\n"
     ]
    },
    {
     "name": "stderr",
     "output_type": "stream",
     "text": [
      "\n",
      "  0%|          | 0/5000 [00:00<?, ?it/s]\u001b[A\n",
      " 50%|█████     | 66/132 [00:04<00:03, 17.56it/s]19it/s]\u001b[A\n",
      "  0%|          | 0/5000 [00:00<?, ?it/s]\u001b[A\n",
      "100%|██████████| 5000/5000 [00:00<00:00, 226481.64it/s]\u001b[A\n",
      "  0%|          | 0/5000 [00:00<?, ?it/s]\u001b[A\n",
      " 52%|█████▏    | 68/132 [00:04<00:03, 16.63it/s]67it/s]\u001b[A\n",
      "  0%|          | 0/5000 [00:00<?, ?it/s]\u001b[A\n",
      "100%|██████████| 5000/5000 [00:00<00:00, 641743.02it/s]\u001b[A"
     ]
    },
    {
     "name": "stdout",
     "output_type": "stream",
     "text": [
      "i/ice_shelf 66\n",
      "i/iceberg 67\n",
      "i/inn/outdoor 68\n",
      "i/islet 69\n"
     ]
    },
    {
     "name": "stderr",
     "output_type": "stream",
     "text": [
      "\n",
      "  0%|          | 0/5000 [00:00<?, ?it/s]\u001b[A\n",
      " 53%|█████▎    | 70/132 [00:04<00:03, 16.80it/s]59it/s]\u001b[A\n",
      "  0%|          | 0/5000 [00:00<?, ?it/s]\u001b[A\n",
      "100%|██████████| 5000/5000 [00:00<00:00, 557782.86it/s]\u001b[A\n",
      "  0%|          | 0/5000 [00:00<?, ?it/s]\u001b[A\n",
      "100%|██████████| 5000/5000 [00:00<00:00, 603792.36it/s]\u001b[A\n",
      "  0%|          | 0/5000 [00:00<?, ?it/s]\u001b[A\n",
      " 55%|█████▌    | 73/132 [00:04<00:03, 17.73it/s]88it/s]\u001b[A\n",
      "  0%|          | 0/5000 [00:00<?, ?it/s]\u001b[A\n",
      "100%|██████████| 5000/5000 [00:00<00:00, 553747.36it/s]\u001b[A"
     ]
    },
    {
     "name": "stdout",
     "output_type": "stream",
     "text": [
      "j/japanese_garden 70\n",
      "k/kasbah 71\n",
      "k/kennel/outdoor 72\n",
      "l/lagoon 73\n",
      "l/lake/natural 74\n"
     ]
    },
    {
     "name": "stderr",
     "output_type": "stream",
     "text": [
      "\n",
      "  0%|          | 0/5000 [00:00<?, ?it/s]\u001b[A\n",
      " 57%|█████▋    | 75/132 [00:05<00:03, 18.28it/s]87it/s]\u001b[A\n",
      "  0%|          | 0/5000 [00:00<?, ?it/s]\u001b[A\n",
      "100%|██████████| 5000/5000 [00:00<00:00, 427702.16it/s]\u001b[A\n",
      "  0%|          | 0/5000 [00:00<?, ?it/s]\u001b[A\n",
      " 58%|█████▊    | 77/132 [00:05<00:03, 17.84it/s]00it/s]\u001b[A\n",
      "  0%|          | 0/5000 [00:00<?, ?it/s]\u001b[A\n",
      "100%|██████████| 5000/5000 [00:00<00:00, 661750.02it/s]\u001b[A"
     ]
    },
    {
     "name": "stdout",
     "output_type": "stream",
     "text": [
      "l/lawn 75\n",
      "l/library/outdoor 76\n",
      "l/lighthouse 77\n",
      "m/mansion 78\n"
     ]
    },
    {
     "name": "stderr",
     "output_type": "stream",
     "text": [
      "\n",
      "  0%|          | 0/5000 [00:00<?, ?it/s]\u001b[A\n",
      " 60%|█████▉    | 79/132 [00:05<00:02, 17.82it/s]18it/s]\u001b[A\n",
      "  0%|          | 0/5000 [00:00<?, ?it/s]\u001b[A\n",
      "100%|██████████| 5000/5000 [00:00<00:00, 665530.13it/s]\u001b[A\n",
      "  0%|          | 0/5000 [00:00<?, ?it/s]\u001b[A\n",
      " 61%|██████▏   | 81/132 [00:05<00:02, 17.79it/s]82it/s]\u001b[A\n",
      "  0%|          | 0/5000 [00:00<?, ?it/s]\u001b[A\n",
      "100%|██████████| 5000/5000 [00:00<00:00, 287147.36it/s]\u001b[A"
     ]
    },
    {
     "name": "stdout",
     "output_type": "stream",
     "text": [
      "m/marsh 79\n",
      "m/mausoleum 80\n",
      "m/moat/water 81\n",
      "m/mosque/outdoor 82\n"
     ]
    },
    {
     "name": "stderr",
     "output_type": "stream",
     "text": [
      "\n",
      "  0%|          | 0/5000 [00:00<?, ?it/s]\u001b[A\n",
      " 63%|██████▎   | 83/132 [00:05<00:02, 17.52it/s]42it/s]\u001b[A\n",
      "  0%|          | 0/5000 [00:00<?, ?it/s]\u001b[A\n",
      "100%|██████████| 5000/5000 [00:00<00:00, 658239.80it/s]\u001b[A\n",
      "  0%|          | 0/5000 [00:00<?, ?it/s]\u001b[A\n",
      " 64%|██████▍   | 85/132 [00:05<00:02, 17.86it/s]76it/s]\u001b[A\n",
      "  0%|          | 0/5000 [00:00<?, ?it/s]\u001b[A\n",
      "100%|██████████| 5000/5000 [00:00<00:00, 517687.48it/s]\u001b[A\n",
      "  0%|          | 0/5000 [00:00<?, ?it/s]\u001b[A"
     ]
    },
    {
     "name": "stdout",
     "output_type": "stream",
     "text": [
      "m/mountain 83\n",
      "m/mountain_path 84\n",
      "m/mountain_snowy 85\n",
      "o/oast_house 86\n"
     ]
    },
    {
     "name": "stderr",
     "output_type": "stream",
     "text": [
      "\n",
      " 66%|██████▌   | 87/132 [00:05<00:02, 18.17it/s]84it/s]\u001b[A\n",
      "  0%|          | 0/5000 [00:00<?, ?it/s]\u001b[A\n",
      "100%|██████████| 5000/5000 [00:00<00:00, 380111.65it/s]\u001b[A\n",
      "  0%|          | 0/5000 [00:00<?, ?it/s]\u001b[A\n",
      " 67%|██████▋   | 89/132 [00:05<00:02, 17.71it/s]63it/s]\u001b[A\n",
      "  0%|          | 0/5000 [00:00<?, ?it/s]\u001b[A\n"
     ]
    },
    {
     "name": "stdout",
     "output_type": "stream",
     "text": [
      "o/ocean 87\n",
      "o/orchard 88\n",
      "p/park 89\n"
     ]
    },
    {
     "name": "stderr",
     "output_type": "stream",
     "text": [
      "100%|██████████| 5000/5000 [00:00<00:00, 190347.36it/s]\u001b[A\n",
      "  0%|          | 0/5000 [00:00<?, ?it/s]\u001b[A\n",
      " 69%|██████▉   | 91/132 [00:05<00:02, 15.47it/s]02it/s]\u001b[A\n",
      "  0%|          | 0/5000 [00:00<?, ?it/s]\u001b[A\n",
      "100%|██████████| 5000/5000 [00:00<00:00, 454115.76it/s]\u001b[A\n",
      "  0%|          | 0/5000 [00:00<?, ?it/s]\u001b[A\n",
      " 70%|███████   | 93/132 [00:06<00:02, 15.80it/s]97it/s]\u001b[A"
     ]
    },
    {
     "name": "stdout",
     "output_type": "stream",
     "text": [
      "p/pasture 90\n",
      "p/pavilion 91\n",
      "p/picnic_area 92\n",
      "p/pier 93\n"
     ]
    },
    {
     "name": "stderr",
     "output_type": "stream",
     "text": [
      "\n",
      "  0%|          | 0/5000 [00:00<?, ?it/s]\u001b[A\n",
      "100%|██████████| 5000/5000 [00:00<00:00, 530964.88it/s]\u001b[A\n",
      "  0%|          | 0/5000 [00:00<?, ?it/s]\u001b[A\n",
      "100%|██████████| 5000/5000 [00:00<00:00, 558481.00it/s]\u001b[A\n",
      "  0%|          | 0/5000 [00:00<?, ?it/s]\u001b[A\n",
      " 73%|███████▎  | 96/132 [00:06<00:02, 15.19it/s]01it/s]\u001b[A"
     ]
    },
    {
     "name": "stdout",
     "output_type": "stream",
     "text": [
      "p/pond 94\n",
      "r/raft 95\n",
      "r/railroad_track 96\n"
     ]
    },
    {
     "name": "stderr",
     "output_type": "stream",
     "text": [
      "\n",
      "  0%|          | 0/5000 [00:00<?, ?it/s]\u001b[A\n",
      "100%|██████████| 5000/5000 [00:00<00:00, 495008.26it/s]\u001b[A\n",
      "  0%|          | 0/5000 [00:00<?, ?it/s]\u001b[A\n",
      " 74%|███████▍  | 98/132 [00:06<00:02, 15.73it/s]45it/s]\u001b[A\n",
      "  0%|          | 0/5000 [00:00<?, ?it/s]\u001b[A\n",
      "100%|██████████| 5000/5000 [00:00<00:00, 587437.54it/s]\u001b[A\n",
      "  0%|          | 0/5000 [00:00<?, ?it/s]\u001b[A\n",
      " 76%|███████▌  | 100/132 [00:06<00:01, 16.35it/s]5it/s]\u001b[A"
     ]
    },
    {
     "name": "stdout",
     "output_type": "stream",
     "text": [
      "r/rainforest 97\n",
      "r/rice_paddy 98\n",
      "r/river 99\n",
      "r/rock_arch 100\n"
     ]
    },
    {
     "name": "stderr",
     "output_type": "stream",
     "text": [
      "\n",
      "  0%|          | 0/5000 [00:00<?, ?it/s]\u001b[A\n",
      "100%|██████████| 5000/5000 [00:00<00:00, 672962.17it/s]\u001b[A\n",
      "  0%|          | 0/5000 [00:00<?, ?it/s]\u001b[A\n",
      " 77%|███████▋  | 102/132 [00:06<00:01, 17.10it/s]5it/s]\u001b[A\n",
      "  0%|          | 0/5000 [00:00<?, ?it/s]\u001b[A\n",
      "100%|██████████| 5000/5000 [00:00<00:00, 713219.97it/s]\u001b[A\n",
      "  0%|          | 0/5000 [00:00<?, ?it/s]\u001b[A\n",
      " 79%|███████▉  | 104/132 [00:06<00:01, 17.45it/s]9it/s]\u001b[A"
     ]
    },
    {
     "name": "stdout",
     "output_type": "stream",
     "text": [
      "r/roof_garden 101\n",
      "r/rope_bridge 102\n",
      "r/ruin 103\n",
      "s/schoolhouse 104\n"
     ]
    },
    {
     "name": "stderr",
     "output_type": "stream",
     "text": [
      "\n",
      "  0%|          | 0/5000 [00:00<?, ?it/s]\u001b[A\n",
      "100%|██████████| 5000/5000 [00:00<00:00, 300960.36it/s]\u001b[A\n",
      "  0%|          | 0/5000 [00:00<?, ?it/s]\u001b[A\n",
      " 80%|████████  | 106/132 [00:06<00:01, 15.87it/s]9it/s]\u001b[A\n",
      "  0%|          | 0/5000 [00:00<?, ?it/s]\u001b[A\n",
      "100%|██████████| 5000/5000 [00:00<00:00, 321264.74it/s]\u001b[A\n",
      "  0%|          | 0/5000 [00:00<?, ?it/s]\u001b[A\n",
      " 82%|████████▏ | 108/132 [00:07<00:01, 16.69it/s]9it/s]\u001b[A"
     ]
    },
    {
     "name": "stdout",
     "output_type": "stream",
     "text": [
      "s/sky 105\n",
      "s/snowfield 106\n",
      "s/swamp 107\n",
      "s/swimming_hole 108\n"
     ]
    },
    {
     "name": "stderr",
     "output_type": "stream",
     "text": [
      "\n",
      "  0%|          | 0/5000 [00:00<?, ?it/s]\u001b[A\n",
      "100%|██████████| 5000/5000 [00:00<00:00, 241209.99it/s]\u001b[A\n",
      "  0%|          | 0/5000 [00:00<?, ?it/s]\u001b[A\n",
      " 83%|████████▎ | 110/132 [00:07<00:01, 16.36it/s]5it/s]\u001b[A\n",
      "  0%|          | 0/5000 [00:00<?, ?it/s]\u001b[A\n",
      "100%|██████████| 5000/5000 [00:00<00:00, 699563.68it/s]\u001b[A\n",
      "  0%|          | 0/5000 [00:00<?, ?it/s]\u001b[A\n",
      " 85%|████████▍ | 112/132 [00:07<00:01, 16.65it/s]5it/s]\u001b[A"
     ]
    },
    {
     "name": "stdout",
     "output_type": "stream",
     "text": [
      "s/synagogue/outdoor 109\n",
      "t/temple/asia 110\n",
      "t/topiary_garden 111\n",
      "t/tree_farm 112\n"
     ]
    },
    {
     "name": "stderr",
     "output_type": "stream",
     "text": [
      "\n",
      "  0%|          | 0/5000 [00:00<?, ?it/s]\u001b[A\n",
      "100%|██████████| 5000/5000 [00:00<00:00, 550766.08it/s]\u001b[A\n",
      "  0%|          | 0/5000 [00:00<?, ?it/s]\u001b[A\n",
      " 86%|████████▋ | 114/132 [00:07<00:01, 17.15it/s]7it/s]\u001b[A\n",
      "  0%|          | 0/5000 [00:00<?, ?it/s]\u001b[A\n",
      "100%|██████████| 5000/5000 [00:00<00:00, 225944.82it/s]\u001b[A\n",
      "  0%|          | 0/5000 [00:00<?, ?it/s]\u001b[A\n",
      " 88%|████████▊ | 116/132 [00:07<00:00, 16.62it/s]4it/s]\u001b[A"
     ]
    },
    {
     "name": "stdout",
     "output_type": "stream",
     "text": [
      "t/tree_house 113\n",
      "u/underwater/ocean_deep 114\n",
      "u/utility_room 115\n",
      "v/valley 116\n"
     ]
    },
    {
     "name": "stderr",
     "output_type": "stream",
     "text": [
      "\n",
      "  0%|          | 0/5000 [00:00<?, ?it/s]\u001b[A\n",
      "100%|██████████| 5000/5000 [00:00<00:00, 497722.08it/s]\u001b[A\n",
      "  0%|          | 0/5000 [00:00<?, ?it/s]\u001b[A\n",
      " 89%|████████▉ | 118/132 [00:07<00:00, 16.05it/s]3it/s]\u001b[A\n",
      "  0%|          | 0/5000 [00:00<?, ?it/s]\u001b[A\n",
      "100%|██████████| 5000/5000 [00:00<00:00, 381793.22it/s]\u001b[A\n",
      "  0%|          | 0/5000 [00:00<?, ?it/s]\u001b[A\n"
     ]
    },
    {
     "name": "stdout",
     "output_type": "stream",
     "text": [
      "v/vegetable_garden 117\n",
      "v/viaduct 118\n",
      "v/village 119\n"
     ]
    },
    {
     "name": "stderr",
     "output_type": "stream",
     "text": [
      " 91%|█████████ | 120/132 [00:07<00:00, 15.87it/s]5it/s]\u001b[A\n",
      "  0%|          | 0/5000 [00:00<?, ?it/s]\u001b[A\n",
      "100%|██████████| 5000/5000 [00:00<00:00, 589518.19it/s]\u001b[A\n",
      "  0%|          | 0/5000 [00:00<?, ?it/s]\u001b[A\n",
      " 92%|█████████▏| 122/132 [00:07<00:00, 16.19it/s]9it/s]\u001b[A\n",
      "  0%|          | 0/5000 [00:00<?, ?it/s]\u001b[A\n",
      "100%|██████████| 5000/5000 [00:00<00:00, 455259.31it/s]\u001b[A"
     ]
    },
    {
     "name": "stdout",
     "output_type": "stream",
     "text": [
      "v/vineyard 120\n",
      "v/volcano 121\n",
      "w/waterfall 122\n",
      "w/watering_hole 123\n"
     ]
    },
    {
     "name": "stderr",
     "output_type": "stream",
     "text": [
      "\n",
      "  0%|          | 0/5000 [00:00<?, ?it/s]\u001b[A\n",
      " 94%|█████████▍| 124/132 [00:08<00:00, 14.84it/s]4it/s]\u001b[A\n",
      "  0%|          | 0/5000 [00:00<?, ?it/s]\u001b[A\n",
      "100%|██████████| 5000/5000 [00:00<00:00, 236709.56it/s]\u001b[A\n",
      "  0%|          | 0/5000 [00:00<?, ?it/s]\u001b[A\n",
      " 95%|█████████▌| 126/132 [00:08<00:00, 14.66it/s]5it/s]\u001b[A\n",
      "  0%|          | 0/5000 [00:00<?, ?it/s]\u001b[A\n",
      "100%|██████████| 5000/5000 [00:00<00:00, 655605.85it/s]\u001b[A"
     ]
    },
    {
     "name": "stdout",
     "output_type": "stream",
     "text": [
      "w/wave 124\n",
      "w/wheat_field 125\n",
      "z/zen_garden 126\n",
      "a/alcove 127\n"
     ]
    },
    {
     "name": "stderr",
     "output_type": "stream",
     "text": [
      "\n",
      "  0%|          | 0/5000 [00:00<?, ?it/s]\u001b[A\n",
      "100%|██████████| 5000/5000 [00:00<00:00, 609265.27it/s]\u001b[A\n",
      "  0%|          | 0/5000 [00:00<?, ?it/s]\u001b[A\n",
      " 98%|█████████▊| 130/132 [00:08<00:00, 17.25it/s]5it/s]\u001b[A\n",
      "  0%|          | 0/5000 [00:00<?, ?it/s]\u001b[A\n",
      "100%|██████████| 5000/5000 [00:00<00:00, 139935.14it/s]\u001b[A"
     ]
    },
    {
     "name": "stdout",
     "output_type": "stream",
     "text": [
      "a/apartment-building/outdoor 128\n",
      "Category a/apartment-building/outdoor can't be found in path /run/media/mist/data/machine_learning/style_transfert/train/data_large/a/apartment-building/outdoor. Skip it.\n",
      "a/artists_loft 129\n",
      "b/building_facade 130\n",
      "c/cemetery 131\n"
     ]
    },
    {
     "name": "stderr",
     "output_type": "stream",
     "text": [
      "\n",
      "  0%|          | 0/5000 [00:00<?, ?it/s]\u001b[A\n",
      "100%|██████████| 132/132 [00:08<00:00, 14.29it/s]4it/s]\u001b[A\n"
     ]
    },
    {
     "name": "stdout",
     "output_type": "stream",
     "text": [
      "Finished. Constructed Places2 dataset of 624077 images.\n",
      "Art dataset contains 120 images.\n",
      "Processes are started.\n"
     ]
    },
    {
     "name": "stderr",
     "output_type": "stream",
     "text": [
      "\r",
      "  0%|          | 0/300000 [00:00<?, ?it/s]"
     ]
    },
    {
     "name": "stdout",
     "output_type": "stream",
     "text": [
      "Start training.\n",
      " [*] Reading latest checkpoint from folder ./models/7DS2/checkpoint.\n",
      " [*] Reading latest checkpoint from folder ./models/7DS2/checkpoint_long.\n",
      " [!] Load failed...\n"
     ]
    },
    {
     "name": "stderr",
     "output_type": "stream",
     "text": [
      "  0%|          | 144/300000 [01:50<58:47:51,  1.42it/s]"
     ]
    }
   ],
   "source": [
    "main(model_name=\"7DS2\",\n",
    "    batch_size=1,\n",
    "    phase=\"train\",\n",
    "    image_size=768,\n",
    "    lr=0.0002,\n",
    "    dsr=0.8,\n",
    "    ptcd=\"/run/media/mist/data/machine_learning/style_transfert/train/data_large\",\n",
    "    ptad=\"/run/media/mist/data/machine_learning/style_transfert/data/7deadlysins\")"
   ]
  },
  {
   "cell_type": "code",
   "execution_count": null,
   "metadata": {},
   "outputs": [],
   "source": []
  }
 ],
 "metadata": {
  "kernelspec": {
   "display_name": "Python 3",
   "language": "python",
   "name": "python3"
  },
  "language_info": {
   "codemirror_mode": {
    "name": "ipython",
    "version": 3
   },
   "file_extension": ".py",
   "mimetype": "text/x-python",
   "name": "python",
   "nbconvert_exporter": "python",
   "pygments_lexer": "ipython3",
   "version": "3.7.1"
  }
 },
 "nbformat": 4,
 "nbformat_minor": 2
}
